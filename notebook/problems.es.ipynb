{
 "cells": [
  {
   "cell_type": "markdown",
   "id": "d9d036c6",
   "metadata": {},
   "source": [
    "# Problemas de prueba de hipótesis"
   ]
  },
  {
   "cell_type": "markdown",
   "id": "d157c4db",
   "metadata": {},
   "source": [
    "## Ejercicio 1\n",
    "\n",
    "Usted es un nutricionista que investiga dos tipos diferentes de dietas para ver si existe una diferencia significativa en la pérdida de peso después de un mes. Eliges dos grupos aleatorios de personas; un grupo sigue la primera dieta y el otro sigue la segunda. Al final del mes, se registra la pérdida de peso (en kg) de cada persona:\n",
    "\n",
    "| Diet 1 | Diet 2 |\n",
    "|:-------|:-------|\n",
    "| 2.0 | 3.0 |\n",
    "| 2.5 | 3.2 |\n",
    "| 3.0 | 3.1 |\n",
    "| 2.8 | 2.9 |\n",
    "| 2.3 | 2.8 |\n",
    "| 2.7 | 3.0 |\n",
    "| 2.5 | 3.2 |\n",
    "\n",
    "Con estos datos se busca responder a la siguiente pregunta: ¿Existe una diferencia significativa en la pérdida de peso promedio entre las personas que siguieron la primera dieta y las que siguieron la segunda dieta?\n",
    "\n",
    "Para sacar conclusiones, siga los siguientes puntos:\n",
    "\n",
    "-Enunciar la hipótesis: hipótesis nula y alternativa.\n",
    "-Realizar la prueba para comprobar la hipótesis. Puede utilizar la prueba t de Student.\n",
    "-Analizar las conclusiones."
   ]
  },
  {
   "cell_type": "code",
   "execution_count": 11,
   "id": "8e0f3cf0",
   "metadata": {},
   "outputs": [],
   "source": [
    "# TODO\n",
    "import pandas as pd\n",
    "import numpy as np\n",
    "import scipy.stats as stats\n",
    "import matplotlib.pyplot as plt\n",
    "import statistics as sts\n"
   ]
  },
  {
   "cell_type": "markdown",
   "id": "a893e015",
   "metadata": {},
   "source": [
    "Hipótesis nula: la media 1 es igual a la media 2.\n",
    "Hipótesis alternativa: la media 1 es diferente a la media 2."
   ]
  },
  {
   "cell_type": "code",
   "execution_count": 2,
   "id": "50eb2714",
   "metadata": {},
   "outputs": [
    {
     "name": "stdout",
     "output_type": "stream",
     "text": [
      "-3.5383407969933938 0.004083270191713912\n",
      "La hipótesis nula se rechaza, por lo que la hipótesis alternativa es cierta\n"
     ]
    }
   ],
   "source": [
    "diet_1 = [2.0, 2.5, 3.0, 2.8, 2.3, 2.7, 2.5]\n",
    "diet_2 = [3.0, 3.2, 3.1, 2.9, 2.8, 3.0, 3.2]\n",
    "\n",
    "#Nivel de significación:\n",
    "\n",
    "alpha = 0.05\n",
    "\n",
    "#Elegir estadístico de prueba\n",
    "\n",
    "T_stat, P_value = stats.ttest_ind(diet_1, diet_2)\n",
    "print(T_stat, P_value)\n",
    "\n",
    "#Comparo p value con alpha\n",
    "\n",
    "if P_value <= alpha:\n",
    "    print(\"La hipótesis nula se rechaza, por lo que la hipótesis alternativa es cierta\")\n",
    "else:\n",
    "    print(\"La hipótesis nula no se rechaza\")\n",
    "\n"
   ]
  },
  {
   "cell_type": "markdown",
   "id": "f432e18e",
   "metadata": {},
   "source": [
    "## ANOVA\n",
    "\n",
    "**ANOVA** (*Analysis of Variance - Análisis de variación*) Es una técnica estadística utilizada para comparar las medidas de dos o más grupos. La idea detrás de ANOVA es descomponer la variabilidad total de los datos en dos componentes: variabilidad entre grupos y variabilidad dentro de los grupos:\n",
    "\n",
    "- **Variabilidad entre grupos**: Esta variabilidad se refiere a las diferencias entre las medias del grupo. Si esta variabilidad es considerablemente mayor que la variabilidad dentro del grupo, podría ser una indicación de que al menos una de las medias del grupo es diferente.\n",
    "- **Variabilidad dentro del grupo**: Esta variabilidad se refiere a la dispersión de los datos dentro de cada grupo. Si todos los grupos tienen una variabilidad similar, entonces cualquier diferencia notable en las medias de los grupos podría considerarse significativa.\n",
    "\n",
    "Las hipótesis en ANOVA suelen incluir:\n",
    "\n",
    "- **Hipótesis nula** ($H₀$): Las medias de todos los grupos son iguales.\n",
    "- **Hipótesis alternativa** ($H₁$): Al menos una de las medias del grupo es diferente.\n",
    "\n",
    "Si el resultado de la prueba ANOVA es significativo (por ejemplo, un valor p inferior a un umbral como 0,05), esto sugiere que al menos la media de un grupo es diferente."
   ]
  },
  {
   "cell_type": "markdown",
   "id": "fc5f3721",
   "metadata": {},
   "source": [
    "## Ejercicio 2\n",
    "\n",
    "Un agricultor decide probar tres tipos diferentes de fertilizantes para determinar si alguno es superior en términos de producción de maíz. El agricultor planta maíz en 15 parcelas idénticas y utiliza los tres fertilizantes (5 parcelas para cada tipo). Al final de la temporada mide el rendimiento de maíz (en kg) de cada parcela, con el siguiente resultado:\n",
    "\n",
    "| Fertilizante 1 | Fertilizante 2 | Fertilizante 3 |\n",
    "|:-------------|:-------------|:-------------|\n",
    "| 20 | 22 | 24 |\n",
    "| 21 | 21 | 23 |\n",
    "| 20 | 23 | 22 |\n",
    "| 19 | 22 | 23 |\n",
    "| 20 | 21 | 24 |\n",
    "\n",
    "Con estos datos busca responder la siguiente pregunta: ¿Existe una diferencia significativa en el rendimiento promedio del maíz entre los tres tipos de fertilizantes?\n",
    "\n",
    "Para ayudarte, sigue los siguientes puntos:\n",
    "\n",
    "-Enunciar la hipótesis: hipótesis nula y alternativa.\n",
    "-Realizar la prueba ANOVA.\n",
    "-Analizar las conclusiones.\n",
    "-Si un fertilizante es mejor que otro, ¿cómo podemos saberlo?"
   ]
  },
  {
   "cell_type": "markdown",
   "id": "f6f6320e",
   "metadata": {},
   "source": [
    "Hipótesis nula: los tres fertilizantes rinden igual. \n",
    "Hipótesis alternativa: los fertilizantes rinden de manera diferente.\n"
   ]
  },
  {
   "cell_type": "code",
   "execution_count": 3,
   "id": "eecad0ca",
   "metadata": {},
   "outputs": [
    {
     "name": "stdout",
     "output_type": "stream",
     "text": [
      "20.31578947368421\n",
      "0.000140478247931904\n"
     ]
    }
   ],
   "source": [
    "fert_1 = [20, 21, 20, 19, 20]\n",
    "fert_2 = [22, 21, 23, 22, 21]\n",
    "fert_3 = [24, 23, 22, 23, 24]\n",
    "\n",
    "alpha= 0.05\n",
    "\n",
    "f_value, p_value = stats.f_oneway(fert_1, fert_2, fert_3)\n",
    "print(f_value)\n",
    "print(p_value)\n"
   ]
  },
  {
   "cell_type": "code",
   "execution_count": 29,
   "id": "f24e205e",
   "metadata": {},
   "outputs": [
    {
     "name": "stdout",
     "output_type": "stream",
     "text": [
      "{'Fertilizante 1': np.float64(20.0), 'Fertilizante 2': np.float64(21.8), 'Fertilizante 3': np.float64(23.2)}\n"
     ]
    }
   ],
   "source": [
    "medias = {\n",
    "    \"Fertilizante 1\": np.mean(fert_1),\n",
    "    \"Fertilizante 2\": np.mean(fert_2),\n",
    "    \"Fertilizante 3\": np.mean(fert_3)\n",
    "}\n",
    "\n",
    "print(medias)\n",
    "\n"
   ]
  },
  {
   "cell_type": "markdown",
   "id": "4dfcf705",
   "metadata": {},
   "source": [
    "\"La hipótesis nula se rechaza ya que el p_value es menor que alpha= 0.05, por lo que los fertilizantes no rinden igual.\""
   ]
  },
  {
   "cell_type": "markdown",
   "id": "da7eb20f",
   "metadata": {},
   "source": [
    "\"Además, comprobamos al calcular la media de los tres fertilizantes, que el más eficiente es el tercero.\""
   ]
  },
  {
   "cell_type": "code",
   "execution_count": 32,
   "id": "f2f2c00f",
   "metadata": {},
   "outputs": [
    {
     "data": {
      "image/png": "[encoded data removed]",
      "text/plain": [
       "<Figure size 800x600 with 1 Axes>"
      ]
     },
     "metadata": {},
     "output_type": "display_data"
    }
   ],
   "source": [
    "import matplotlib.pyplot as plt\n",
    "import numpy as np\n",
    "\n",
    "medias_fert= [20, 21.8, 23.2]\n",
    "eje_x = ['Fertilizante 1', 'Fertilizante 2', 'Fertilizante 3']\n",
    "colors = ['skyblue', 'cornflowerblue', 'cadetblue']\n",
    "\n",
    "fig, ax = plt.subplots(figsize=(8,6))\n",
    "ax.bar(eje_x, medias_fert, capsize=8, color=colors, alpha=0.8)\n",
    "ax.set_title('Rendimiento Promedio')\n",
    "ax.set_ylabel('Rendimiento')\n",
    "\n",
    "plt.show()\n"
   ]
  },
  {
   "cell_type": "markdown",
   "id": "bc51dd3f",
   "metadata": {},
   "source": [
    "\"En el gráfico de barras podemos observar visualmente las diferencias entre los tres\""
   ]
  }
 ],
 "metadata": {
  "kernelspec": {
   "display_name": "Python 3",
   "language": "python",
   "name": "python3"
  },
  "language_info": {
   "codemirror_mode": {
    "name": "ipython",
    "version": 3
   },
   "file_extension": ".py",
   "mimetype": "text/x-python",
   "name": "python",
   "nbconvert_exporter": "python",
   "pygments_lexer": "ipython3",
   "version": "3.11.4"
  }
 },
 "nbformat": 4,
 "nbformat_minor": 5
}
